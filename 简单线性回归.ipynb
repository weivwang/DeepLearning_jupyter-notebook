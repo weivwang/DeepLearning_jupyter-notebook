{
 "cells": [
  {
   "cell_type": "code",
   "execution_count": 2,
   "id": "strange-observer",
   "metadata": {},
   "outputs": [
    {
     "name": "stdout",
     "output_type": "stream",
     "text": [
      "2.0.0\n"
     ]
    }
   ],
   "source": [
    "%matplotlib inline\n",
    "import tensorflow as tf\n",
    "print(tf.__version__)\n",
    "from matplotlib import pyplot as plt\n",
    "import random\n"
   ]
  },
  {
   "cell_type": "markdown",
   "id": "amino-crazy",
   "metadata": {},
   "source": []
  },
  {
   "cell_type": "code",
   "execution_count": 27,
   "id": "liable-newton",
   "metadata": {},
   "outputs": [
    {
     "name": "stdout",
     "output_type": "stream",
     "text": [
      "tf.Tensor([-1.6944164 -1.2778903], shape=(2,), dtype=float32) tf.Tensor(8.193232, shape=(), dtype=float32)\n"
     ]
    }
   ],
   "source": [
    "#生成数据集：\n",
    "#训练样本数为1000，特征数为2，线性回归模型真实权重：w = [2,-3.4]T, 随机噪声服从均值为0、标准差为0.01的正态分布\n",
    "nums_input = 2\n",
    "nums_examples = 1000\n",
    "true_w = [2,-3.4]\n",
    "true_b = 4.2\n",
    "features = tf.random.normal((nums_examples,nums_input),stddev=1)\n",
    "labels = true_w[0]*features[:,0] + true_w[1]*features[:,1] + true_b\n",
    "labels+=tf.random.normal((lables.shape),stddev=0.01)\n",
    "print(features[0],lables[0])\n"
   ]
  },
  {
   "cell_type": "code",
   "execution_count": 28,
   "id": "abstract-alignment",
   "metadata": {},
   "outputs": [
    {
     "data": {
      "text/plain": [
       "<matplotlib.collections.PathCollection at 0x7fc11cd0e690>"
      ]
     },
     "execution_count": 28,
     "metadata": {},
     "output_type": "execute_result"
    },
    {
     "data": {
      "image/png": "[encoded data removed]",
      "text/plain": [
       "<Figure size 252x180 with 1 Axes>"
      ]
     },
     "metadata": {
      "needs_background": "light"
     },
     "output_type": "display_data"
    }
   ],
   "source": [
    "#画散点图\n",
    "def set_figsize(figsize = (3.5,2.5)):\n",
    "    plt.rcParams['figure.figsize'] = figsize\n",
    "\n",
    "set_figsize()\n",
    "#feature[:,0]与label的关系，负相关，散点图\n",
    "plt.scatter(features[:,0],labels,1)\n",
    "#feature[:,1]与label的关系，负相关，散点图\n",
    "plt.scatter(features[:,1],labels,1)"
   ]
  },
  {
   "cell_type": "code",
   "execution_count": 37,
   "id": "hispanic-provider",
   "metadata": {},
   "outputs": [],
   "source": [
    "#读取数据，\n",
    "#在训练模型的时候，我们需要遍历数据集并不断读取小批量数据样本。\n",
    "#这里我们定义一个函数：它每次返回batch_size（批量大小）个随机样本的特征和标签。\n",
    "def data_iter(batch_size,features,labels):\n",
    "    nums_examples = len(features)\n",
    "    indices = list(range(nums_examples))\n",
    "    random.shuffle(indices)\n",
    "    for i in range(0,nums_examples,batch_size):\n",
    "        #切片，j是indices索引为i到min(i+批量大小,总长度)\n",
    "        j = indices[i:min(i+batch_size,nums_examples)]\n",
    "        # 截取，从features的0维，按照j切片取出数据，同理从labels中取\n",
    "        yield tf.gather(features,axis=0,indices=j),tf.gather(labels,axis=0,indices=j)"
   ]
  },
  {
   "cell_type": "code",
   "execution_count": 38,
   "id": "ceramic-array",
   "metadata": {
    "scrolled": true
   },
   "outputs": [
    {
     "name": "stdout",
     "output_type": "stream",
     "text": [
      "tf.Tensor(\n",
      "[[-0.91470844  0.64516723]\n",
      " [ 0.46634182 -0.5449947 ]\n",
      " [-0.42063826  2.1323986 ]\n",
      " [ 2.3638747  -0.04834694]\n",
      " [-1.5820965  -1.7652578 ]\n",
      " [-1.3649925   0.9397537 ]\n",
      " [ 1.1781753   1.5663589 ]\n",
      " [ 0.5214035  -0.1855692 ]\n",
      " [ 0.02608646  0.29705086]\n",
      " [-1.6567614   1.6010444 ]], shape=(10, 2), dtype=float32) tf.Tensor(\n",
      "[ 0.1816675  6.980261  -3.9007304  9.086262   7.0277104 -1.7237445\n",
      "  1.2272844  5.8796844  3.241263  -4.564989 ], shape=(10,), dtype=float32)\n"
     ]
    }
   ],
   "source": [
    "#读取第一个小样本并打印\n",
    "batch_size=10\n",
    "\n",
    "for X, y in data_iter(batch_size,features,labels):\n",
    "    print(X,y)\n",
    "    break"
   ]
  },
  {
   "cell_type": "code",
   "execution_count": 41,
   "id": "eastern-roman",
   "metadata": {
    "scrolled": true
   },
   "outputs": [
    {
     "name": "stdout",
     "output_type": "stream",
     "text": [
      "<tf.Variable 'Variable:0' shape=(2, 1) dtype=float32, numpy=\n",
      "array([[-0.00518122],\n",
      "       [ 0.00836205]], dtype=float32)> <tf.Variable 'Variable:0' shape=(1,) dtype=float32, numpy=array([0.], dtype=float32)>\n"
     ]
    }
   ],
   "source": [
    "#初始化模型参数\n",
    "w = tf.Variable(tf.random.normal((nums_input,1),stddev=0.01))\n",
    "b = tf.Variable(tf.zeros((1,)))\n",
    "print(w,b)"
   ]
  },
  {
   "cell_type": "code",
   "execution_count": 53,
   "id": "polish-tobacco",
   "metadata": {},
   "outputs": [],
   "source": [
    "#定义模型\n",
    "def linreg(X,w,b):\n",
    "    return tf.matmul(X,w)+b"
   ]
  },
  {
   "cell_type": "code",
   "execution_count": 88,
   "id": "developmental-actor",
   "metadata": {},
   "outputs": [],
   "source": [
    "#定义损失函数\n",
    "def squared_loss(y_hat,y):\n",
    "    return (y_hat - tf.reshape(y,y_hat.shape)) **2 /2\n"
   ]
  },
  {
   "cell_type": "code",
   "execution_count": 104,
   "id": "careful-james",
   "metadata": {},
   "outputs": [],
   "source": [
    "#定义优化算法\n",
    "#sgd函数实现了小批量随机梯度下降算法。\n",
    "#它通过不断迭代模型参数来优化损失函数。\n",
    "#这里自动求梯度模块计算得来的梯度是一个批量样本的梯度和。我们将它除以批量大小来得到平均值。\n",
    "#lr = learning rate 学习率\n",
    "def sgd(params,lr,batch_size,grads):\n",
    "    for i,param in enumerate(params):\n",
    "        param.assign_sub(lr*grads[i] / batch_size)\n"
   ]
  },
  {
   "cell_type": "code",
   "execution_count": 107,
   "id": "promotional-regard",
   "metadata": {},
   "outputs": [
    {
     "name": "stdout",
     "output_type": "stream",
     "text": [
      "epoch 1, loss 0.000046\n",
      "[2, -3.4] <tf.Variable 'Variable:0' shape=(2, 1) dtype=float32, numpy=\n",
      "array([[ 2.0005174],\n",
      "       [-3.4004037]], dtype=float32)>\n",
      "4.2 <tf.Variable 'Variable:0' shape=(1,) dtype=float32, numpy=array([4.199854], dtype=float32)>\n",
      "epoch 2, loss 0.000046\n",
      "[2, -3.4] <tf.Variable 'Variable:0' shape=(2, 1) dtype=float32, numpy=\n",
      "array([[ 2.000602],\n",
      "       [-3.400253]], dtype=float32)>\n",
      "4.2 <tf.Variable 'Variable:0' shape=(1,) dtype=float32, numpy=array([4.2001247], dtype=float32)>\n",
      "epoch 3, loss 0.000046\n",
      "[2, -3.4] <tf.Variable 'Variable:0' shape=(2, 1) dtype=float32, numpy=\n",
      "array([[ 2.0004277],\n",
      "       [-3.4003558]], dtype=float32)>\n",
      "4.2 <tf.Variable 'Variable:0' shape=(1,) dtype=float32, numpy=array([4.200047], dtype=float32)>\n"
     ]
    }
   ],
   "source": [
    "#训练模型\n",
    "lr = 0.03\n",
    "nums_epochs = 3\n",
    "net = linreg\n",
    "loss = squared_loss\n",
    "\n",
    "for epoch in range(nums_epochs):\n",
    "    for X,y in data_iter(batch_size,features,labels):\n",
    "        with tf.GradientTape() as t:\n",
    "            t.watch([w,b])\n",
    "            l = tf.reduce_sum(loss(net(X,w,b),y))\n",
    "        grads = t.gradient(l,[w,b])\n",
    "        sgd([w,b],lr,batch_size,grads)\n",
    "    train_l = loss(net(features,w,b),labels)\n",
    "    print('epoch %d, loss %f' % (epoch + 1, tf.reduce_mean(train_l)))\n",
    "    print(true_w,w)\n",
    "    print(true_b,b)"
   ]
  },
  {
   "cell_type": "code",
   "execution_count": 106,
   "id": "reasonable-italic",
   "metadata": {},
   "outputs": [
    {
     "name": "stdout",
     "output_type": "stream",
     "text": [
      "[2, -3.4] <tf.Variable 'Variable:0' shape=(2, 1) dtype=float32, numpy=\n",
      "array([[ 1.9999974],\n",
      "       [-3.3994236]], dtype=float32)>\n",
      "4.2 <tf.Variable 'Variable:0' shape=(1,) dtype=float32, numpy=array([4.199487], dtype=float32)>\n"
     ]
    }
   ],
   "source": []
  }
 ],
 "metadata": {
  "kernelspec": {
   "display_name": "Python 3",
   "language": "python",
   "name": "python3"
  },
  "language_info": {
   "codemirror_mode": {
    "name": "ipython",
    "version": 3
   },
   "file_extension": ".py",
   "mimetype": "text/x-python",
   "name": "python",
   "nbconvert_exporter": "python",
   "pygments_lexer": "ipython3",
   "version": "3.7.4"
  }
 },
 "nbformat": 4,
 "nbformat_minor": 5
}
