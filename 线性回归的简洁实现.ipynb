{
 "cells": [
  {
   "cell_type": "code",
   "execution_count": 1,
   "id": "identical-fifty",
   "metadata": {},
   "outputs": [],
   "source": [
    "#生成数据集\n",
    "import tensorflow as tf\n",
    "\n",
    "num_inputs = 2\n",
    "num_examples = 1000\n",
    "true_w = [2, -3.4]\n",
    "true_b = 4.2\n",
    "features = tf.random.normal(shape=(num_examples, num_inputs), stddev=1)\n",
    "labels = true_w[0] * features[:, 0] + true_w[1] * features[:, 1] + true_b\n",
    "labels += tf.random.normal(labels.shape, stddev=0.01)"
   ]
  },
  {
   "cell_type": "code",
   "execution_count": 2,
   "id": "friendly-ideal",
   "metadata": {},
   "outputs": [],
   "source": [
    "#read data\n",
    "from tensorflow import data as tfdata\n",
    "batch_size = 10\n",
    "\n",
    "#特征和标签组成数据集\n",
    "dataset = tfdata.Dataset.from_tensor_slices((features,labels))\n",
    "#随机读取小批量\n",
    "#不用自己写data_iter()函数了\n",
    "dataset = dataset.shuffle(buffer_size = num_examples)\n",
    "dataset = dataset.batch(batch_size)\n",
    "data_iter = iter(dataset)"
   ]
  },
  {
   "cell_type": "code",
   "execution_count": 10,
   "id": "rising-wednesday",
   "metadata": {
    "scrolled": true
   },
   "outputs": [
    {
     "name": "stdout",
     "output_type": "stream",
     "text": [
      "tf.Tensor(\n",
      "[[ 0.99655026 -1.2748276 ]\n",
      " [-0.24547048  1.3461574 ]\n",
      " [-0.75428355  0.7364075 ]\n",
      " [-0.14419436 -1.1058406 ]\n",
      " [ 0.04491834  0.01579738]\n",
      " [ 0.7102111  -0.2837472 ]\n",
      " [-0.56978995  1.3966509 ]\n",
      " [ 0.9833379  -0.38532758]\n",
      " [-2.257239   -2.526411  ]\n",
      " [-0.7510938  -0.17075798]], shape=(10, 2), dtype=float32) tf.Tensor(\n",
      "[10.520671   -0.88153744  0.19845535  7.667836    4.247192    6.573559\n",
      " -1.6937331   7.4576817   8.270341    3.270323  ], shape=(10,), dtype=float32)\n"
     ]
    }
   ],
   "source": [
    "for X,y in data_iter:\n",
    "    print(X,y)\n",
    "    break"
   ]
  },
  {
   "cell_type": "code",
   "execution_count": 11,
   "id": "young-element",
   "metadata": {
    "scrolled": true
   },
   "outputs": [],
   "source": [
    "#定义模型和初始化参数\n",
    "from tensorflow import keras\n",
    "from tensorflow.keras import layers\n",
    "from tensorflow import initializers as init\n",
    "model = keras.Sequential()\n",
    "model.add(layers.Dense(1,kernel_initializer=init.RandomNormal(stddev=0.01)))"
   ]
  },
  {
   "cell_type": "code",
   "execution_count": 5,
   "id": "careful-journalist",
   "metadata": {},
   "outputs": [],
   "source": [
    "#定义损失函数\n",
    "from tensorflow import losses\n",
    "loss = losses.MeanSquareError()"
   ]
  },
  {
   "cell_type": "code",
   "execution_count": 12,
   "id": "prescription-casino",
   "metadata": {},
   "outputs": [],
   "source": [
    "#定义优化算法\n",
    "from tensorflow.kersas import optimizers\n",
    "#SGD是小批量随机梯度下降\n",
    "trainer = optimizers.SGD(learning_rate = 0.03)"
   ]
  },
  {
   "cell_type": "code",
   "execution_count": 14,
   "id": "painted-liability",
   "metadata": {},
   "outputs": [
    {
     "name": "stdout",
     "output_type": "stream",
     "text": [
      "epoch 1, loss: 0.055996\n",
      "epoch 2, loss: 0.054042\n",
      "epoch 3, loss: 0.056803\n"
     ]
    }
   ],
   "source": [
    "num_epochs = 3\n",
    "for epoch in range(1, num_epochs + 1):\n",
    "    for (batch, (X, y)) in enumerate(dataset):\n",
    "        with tf.GradientTape() as tape:\n",
    "            l = loss(model(X, training=True), y)\n",
    "\n",
    "        grads = tape.gradient(l, model.trainable_variables)\n",
    "        trainer.apply_gradients(zip(grads, model.trainable_variables))\n",
    "\n",
    "    l = tf.reduce_sum(loss(model(features), labels))\n",
    "    print('epoch %d, loss: %f' % (epoch, l))"
   ]
  },
  {
   "cell_type": "code",
   "execution_count": null,
   "id": "accessory-council",
   "metadata": {
    "scrolled": false
   },
   "outputs": [],
   "source": []
  }
 ],
 "metadata": {
  "kernelspec": {
   "display_name": "Python 3",
   "language": "python",
   "name": "python3"
  },
  "language_info": {
   "codemirror_mode": {
    "name": "ipython",
    "version": 3
   },
   "file_extension": ".py",
   "mimetype": "text/x-python",
   "name": "python",
   "nbconvert_exporter": "python",
   "pygments_lexer": "ipython3",
   "version": "3.7.4"
  }
 },
 "nbformat": 4,
 "nbformat_minor": 5
}
